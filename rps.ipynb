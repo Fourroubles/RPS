{
 "cells": [
  {
   "cell_type": "code",
   "execution_count": 1,
   "metadata": {
    "colab": {
     "base_uri": "https://localhost:8080/"
    },
    "id": "MXXTuy_o0sjk",
    "outputId": "fed08dfa-a156-4d34-9059-446295990129"
   },
   "outputs": [
    {
     "name": "stdout",
     "output_type": "stream",
     "text": [
      "  Preparing metadata (setup.py) ... \u001b[?25l\u001b[?25hdone\n",
      "\u001b[2K   \u001b[90m━━━━━━━━━━━━━━━━━━━━━━━━━━━━━━━━━━━━━━━━\u001b[0m \u001b[32m1.4/1.4 MB\u001b[0m \u001b[31m14.2 MB/s\u001b[0m eta \u001b[36m0:00:00\u001b[0m\n",
      "\u001b[2K   \u001b[90m━━━━━━━━━━━━━━━━━━━━━━━━━━━━━━━━━━━━━━━━\u001b[0m \u001b[32m953.8/953.8 kB\u001b[0m \u001b[31m24.2 MB/s\u001b[0m eta \u001b[36m0:00:00\u001b[0m\n",
      "\u001b[2K   \u001b[90m━━━━━━━━━━━━━━━━━━━━━━━━━━━━━━━━━━━━━━━━\u001b[0m \u001b[32m840.2/840.2 kB\u001b[0m \u001b[31m18.6 MB/s\u001b[0m eta \u001b[36m0:00:00\u001b[0m\n",
      "\u001b[2K   \u001b[90m━━━━━━━━━━━━━━━━━━━━━━━━━━━━━━━━━━━━━━━━\u001b[0m \u001b[32m178.7/178.7 kB\u001b[0m \u001b[31m6.1 MB/s\u001b[0m eta \u001b[36m0:00:00\u001b[0m\n",
      "\u001b[?25h  Building wheel for Chessnut (setup.py) ... \u001b[?25l\u001b[?25hdone\n"
     ]
    }
   ],
   "source": [
    "!pip install -q -U kaggle_environments"
   ]
  },
  {
   "cell_type": "code",
   "execution_count": null,
   "metadata": {
    "colab": {
     "base_uri": "https://localhost:8080/"
    },
    "id": "yz23vWHD0wcj",
    "outputId": "1fa8bac6-d12c-4f6a-c28c-95e8072ef17b"
   },
   "outputs": [],
   "source": [
    "import numpy as np\n",
    "import pandas as pd\n",
    "import random\n",
    "\n",
    "import matplotlib.pyplot as plt\n",
    "import seaborn as sns\n",
    "\n",
    "from kaggle_environments import make, evaluate"
   ]
  },
  {
   "cell_type": "code",
   "execution_count": 3,
   "metadata": {
    "colab": {
     "base_uri": "https://localhost:8080/"
    },
    "id": "bqTqV7B92rJ6",
    "outputId": "4b84c8b1-3f74-47b3-a904-0f8fc581f78a"
   },
   "outputs": [
    {
     "name": "stdout",
     "output_type": "stream",
     "text": [
      "Writing rock_agent.py\n"
     ]
    }
   ],
   "source": [
    "%%writefile rock_agent.py\n",
    "\n",
    "# 1. Агент, который всегда выбирает \"камень\"\n",
    "def rock_agent(observation, configuration):\n",
    "    return 0"
   ]
  },
  {
   "cell_type": "code",
   "execution_count": 10,
   "metadata": {
    "colab": {
     "base_uri": "https://localhost:8080/"
    },
    "id": "EuQ5_f9Z_V_O",
    "outputId": "339cf1d1-8f2d-44e8-a8cc-231ccf9dfe40"
   },
   "outputs": [
    {
     "name": "stdout",
     "output_type": "stream",
     "text": [
      "Writing paper_agent.py\n"
     ]
    }
   ],
   "source": [
    "%%writefile paper_agent.py\n",
    "# 2. Агент, который всегда выбирает \"бумагу\"\n",
    "def paper_agent(observation, configuration):\n",
    "    return 1"
   ]
  },
  {
   "cell_type": "code",
   "execution_count": 21,
   "metadata": {
    "colab": {
     "base_uri": "https://localhost:8080/"
    },
    "id": "pPk9nXigABr1",
    "outputId": "a58e7272-347f-442b-ea33-9d11a5d951d9"
   },
   "outputs": [
    {
     "name": "stdout",
     "output_type": "stream",
     "text": [
      "Writing scissors_agent.py\n"
     ]
    }
   ],
   "source": [
    "%%writefile scissors_agent.py\n",
    "# 3. Агент, который всегда выбирает \"ножницы\"\n",
    "def scissors_agent(observation, configuration):\n",
    "    return 2"
   ]
  },
  {
   "cell_type": "code",
   "execution_count": null,
   "metadata": {
    "colab": {
     "base_uri": "https://localhost:8080/"
    },
    "id": "7l6Ttw6qi0jk",
    "outputId": "5e08abea-4b23-4e80-b876-b806038a6786"
   },
   "outputs": [],
   "source": [
    "%%writefile copy_opponent_agent.py\n",
    "import random\n",
    "# 4. Aгент, который производит то же самое действие, что и оппонент на прошлом ходу\n",
    "def copy_opponent_agent(observation, configuration):\n",
    "    if observation.step > 0:\n",
    "        return observation.lastOpponentAction\n",
    "    else:\n",
    "        return random.randrange(0, configuration.signs)"
   ]
  },
  {
   "cell_type": "code",
   "execution_count": 32,
   "metadata": {
    "colab": {
     "base_uri": "https://localhost:8080/"
    },
    "id": "8dvls3EsHQrx",
    "outputId": "daf42f53-faf0-4843-f948-24277cd6d5db"
   },
   "outputs": [
    {
     "name": "stdout",
     "output_type": "stream",
     "text": [
      "Overwriting random_agent.py\n"
     ]
    }
   ],
   "source": [
    "%%writefile random_agent.py\n",
    "import random\n",
    "# 5. Aгент, который выбирает действие случайным образом\n",
    "def random_agent(observation, configuration):\n",
    "  return random.choice([0, 1, 2])"
   ]
  },
  {
   "cell_type": "code",
   "execution_count": 16,
   "metadata": {
    "colab": {
     "base_uri": "https://localhost:8080/"
    },
    "id": "D4k4rvO7G9Ju",
    "outputId": "a516dfac-43ae-4a2c-b3ab-ba12f8590069"
   },
   "outputs": [
    {
     "name": "stdout",
     "output_type": "stream",
     "text": [
      "Writing alternating_agent.py\n"
     ]
    }
   ],
   "source": [
    "%%writefile alternating_agent.py\n",
    "\n",
    "# 6. Aгент, который чередует действие\n",
    "def alternating_agent(observation, configuration):\n",
    "    if observation.step % 3 == 0:\n",
    "        return 0\n",
    "    elif observation.step % 3 == 1:\n",
    "        return 1\n",
    "    else:\n",
    "        return 2"
   ]
  },
  {
   "cell_type": "code",
   "execution_count": 41,
   "metadata": {
    "colab": {
     "base_uri": "https://localhost:8080/"
    },
    "id": "LmwUYUpvIx3f",
    "outputId": "8ccceda0-c987-4988-e18e-5c75612c6813"
   },
   "outputs": [
    {
     "name": "stdout",
     "output_type": "stream",
     "text": [
      "Overwriting win_past_agent.py\n"
     ]
    }
   ],
   "source": [
    "%%writefile win_past_agent.py\n",
    "import random\n",
    "# 7. Aгент, который выбирает победный ход в предыдущем ходу\n",
    "def win_past_agent(observation, configuration):\n",
    "    if observation.step == 0:\n",
    "        return random.choice([0, 1, 2])\n",
    "    else:\n",
    "        opponent_last_move = observation.lastOpponentAction\n",
    "        if opponent_last_move == 0:\n",
    "            return 1\n",
    "        elif opponent_last_move == 1:\n",
    "            return 2\n",
    "        else:\n",
    "            return 0"
   ]
  },
  {
   "cell_type": "code",
   "execution_count": null,
   "metadata": {
    "colab": {
     "base_uri": "https://localhost:8080/"
    },
    "id": "cU3aQM0ILJzA",
    "outputId": "6f47a000-6cd3-4c01-b11b-455dd4b25351"
   },
   "outputs": [],
   "source": [
    "%%writefile without_rock_agent.py\n",
    "import random\n",
    "# 8. Aгент, который исключает использование \"камня\"\n",
    "def without_rock_agent(observation, configuration):\n",
    "    return random.choice([1,2])"
   ]
  },
  {
   "cell_type": "code",
   "execution_count": null,
   "metadata": {
    "colab": {
     "base_uri": "https://localhost:8080/"
    },
    "id": "-VFKiLktMTeT",
    "outputId": "60bf2b33-5292-48a7-c8d3-a1d4ca25e7e2"
   },
   "outputs": [],
   "source": [
    "%%writefile without_paper_agent.py\n",
    "import random\n",
    "# 9. Aгент, который исключает использование \"бумага\"\n",
    "def without_paper_agent(observation, configuration):\n",
    "    return random.choice([0,2])"
   ]
  },
  {
   "cell_type": "code",
   "execution_count": 49,
   "metadata": {
    "colab": {
     "base_uri": "https://localhost:8080/"
    },
    "id": "VSC5nNfvMThJ",
    "outputId": "162ce964-eb20-41b2-956d-843947caa1ca"
   },
   "outputs": [
    {
     "name": "stdout",
     "output_type": "stream",
     "text": [
      "Overwriting without_scissors_agent.py\n"
     ]
    }
   ],
   "source": [
    "%%writefile without_scissors_agent.py\n",
    "import random\n",
    "# 10. Aгент, который исключает использование \"ножницы\"\n",
    "def without_scissors_agent(observation, configuration):\n",
    "    return random.choice([0,1])"
   ]
  },
  {
   "cell_type": "code",
   "execution_count": 53,
   "metadata": {
    "colab": {
     "base_uri": "https://localhost:8080/"
    },
    "id": "sm8udyamNDMC",
    "outputId": "d275e76f-b36a-488a-c125-28ee5aae5292"
   },
   "outputs": [
    {
     "name": "stdout",
     "output_type": "stream",
     "text": [
      "Writing loss_past_agent.py\n"
     ]
    }
   ],
   "source": [
    "%%writefile loss_past_agent.py\n",
    "import random\n",
    "# 11. Aгента, который выбирает не выигрышное дейсвтие для предыдущего хода оппонента\n",
    "def loss_past_agent(observation, configuration):\n",
    "    if observation.step == 0:\n",
    "        return random.choice([0, 1, 2])\n",
    "    else:\n",
    "        opponent_last_move = observation.lastOpponentAction\n",
    "        # Предполагаем, что противник может выбрать то, что проигрывает\n",
    "        if opponent_last_move == 0:\n",
    "            return random.choice([0, 2])\n",
    "        elif opponent_last_move == 1:\n",
    "            return random.choice([0, 1])\n",
    "        else:\n",
    "            return random.choice([1, 2])"
   ]
  },
  {
   "cell_type": "code",
   "execution_count": 87,
   "metadata": {
    "colab": {
     "base_uri": "https://localhost:8080/"
    },
    "id": "8qjhd4CjNDTP",
    "outputId": "20a2cc8f-a58e-4806-9df5-a2f356397597"
   },
   "outputs": [
    {
     "name": "stdout",
     "output_type": "stream",
     "text": [
      "Overwriting reactionary_agent.py\n"
     ]
    }
   ],
   "source": [
    "%%writefile reactionary_agent.py\n",
    "import random\n",
    "import math\n",
    "# 12. Aгент, который реагирует на предыдущее действие игрока, если ход был проигран, то выбирается другой\n",
    "def get_score(left_move, right_move):\n",
    "    delta = (\n",
    "        right_move - left_move\n",
    "        if (left_move + right_move) % 2 == 0\n",
    "        else left_move - right_move\n",
    "    )\n",
    "    return 0 if delta == 0 else math.copysign(1, delta)\n",
    "\n",
    "def reactionary_agent(observation, configuration):\n",
    "    global last_react_action\n",
    "    if observation.step == 0:\n",
    "        last_react_action = random.randrange(0, configuration.signs)\n",
    "    elif get_score(last_react_action, observation.lastOpponentAction) <= 1:\n",
    "        last_react_action = (observation.lastOpponentAction + 1) % configuration.signs\n",
    "\n",
    "    return last_react_action"
   ]
  },
  {
   "cell_type": "code",
   "execution_count": 98,
   "metadata": {
    "colab": {
     "base_uri": "https://localhost:8080/"
    },
    "id": "pumQ1LbIQ8qH",
    "outputId": "28410982-2481-4991-b32d-24b90307b9b4"
   },
   "outputs": [
    {
     "name": "stdout",
     "output_type": "stream",
     "text": [
      "Writing statistical_agent.py\n"
     ]
    }
   ],
   "source": [
    "%%writefile statistical_agent.py\n",
    "import random\n",
    "# 13. Агент, который анализирует статистику ходов противника\n",
    "def statistical_agent(observation, configuration):\n",
    "    global action_histogram\n",
    "    if observation.step == 0:\n",
    "        action_histogram = {}\n",
    "        return\n",
    "    action = observation.lastOpponentAction\n",
    "    if action not in action_histogram:\n",
    "        action_histogram[action] = 0\n",
    "    action_histogram[action] += 1\n",
    "    mode_action = None\n",
    "    mode_action_count = None\n",
    "    for k, v in action_histogram.items():\n",
    "        if mode_action_count is None or v > mode_action_count:\n",
    "            mode_action = k\n",
    "            mode_action_count = v\n",
    "            continue\n",
    "\n",
    "    return (mode_action + 1) % configuration.signs"
   ]
  },
  {
   "cell_type": "code",
   "execution_count": 99,
   "metadata": {
    "colab": {
     "base_uri": "https://localhost:8080/",
     "height": 476
    },
    "id": "wv6Ip6M004xa",
    "outputId": "ca5c1e02-065e-4fb2-fa96-f0f881343acd"
   },
   "outputs": [
    {
     "data": {
      "application/vnd.google.colaboratory.intrinsic+json": {
       "summary": "{\n  \"name\": \"df_scores\",\n  \"rows\": 13,\n  \"fields\": [\n    {\n      \"column\": \"rock_agent\",\n      \"properties\": {\n        \"dtype\": \"number\",\n        \"std\": 65.4626532792475,\n        \"min\": -99.0,\n        \"max\": 99.0,\n        \"num_unique_values\": 8,\n        \"samples\": [\n          99.0,\n          -54.0,\n          0.0\n        ],\n        \"semantic_type\": \"\",\n        \"description\": \"\"\n      }\n    },\n    {\n      \"column\": \"copy_opponent_agent\",\n      \"properties\": {\n        \"dtype\": \"number\",\n        \"std\": 49.30088156490635,\n        \"min\": -99.0,\n        \"max\": 98.0,\n        \"num_unique_values\": 4,\n        \"samples\": [\n          98.0,\n          21.0,\n          0.0\n        ],\n        \"semantic_type\": \"\",\n        \"description\": \"\"\n      }\n    },\n    {\n      \"column\": \"paper_agent\",\n      \"properties\": {\n        \"dtype\": \"number\",\n        \"std\": 65.20116799331365,\n        \"min\": -99.0,\n        \"max\": 99.0,\n        \"num_unique_values\": 6,\n        \"samples\": [\n          -99.0,\n          0.0,\n          -51.0\n        ],\n        \"semantic_type\": \"\",\n        \"description\": \"\"\n      }\n    },\n    {\n      \"column\": \"random_agent\",\n      \"properties\": {\n        \"dtype\": \"number\",\n        \"std\": 0.0,\n        \"min\": 0.0,\n        \"max\": 0.0,\n        \"num_unique_values\": 1,\n        \"samples\": [\n          0.0\n        ],\n        \"semantic_type\": \"\",\n        \"description\": \"\"\n      }\n    },\n    {\n      \"column\": \"alternating_agent\",\n      \"properties\": {\n        \"dtype\": \"number\",\n        \"std\": 27.18030961503623,\n        \"min\": -98.0,\n        \"max\": 0.0,\n        \"num_unique_values\": 2,\n        \"samples\": [\n          -98.0\n        ],\n        \"semantic_type\": \"\",\n        \"description\": \"\"\n      }\n    },\n    {\n      \"column\": \"scissors_agent\",\n      \"properties\": {\n        \"dtype\": \"number\",\n        \"std\": 64.42636424831383,\n        \"min\": -99.0,\n        \"max\": 99.0,\n        \"num_unique_values\": 7,\n        \"samples\": [\n          99.0\n        ],\n        \"semantic_type\": \"\",\n        \"description\": \"\"\n      }\n    },\n    {\n      \"column\": \"win_past_agent\",\n      \"properties\": {\n        \"dtype\": \"number\",\n        \"std\": 54.35684562837202,\n        \"min\": -98.0,\n        \"max\": 99.0,\n        \"num_unique_values\": 7,\n        \"samples\": [\n          -98.0\n        ],\n        \"semantic_type\": \"\",\n        \"description\": \"\"\n      }\n    },\n    {\n      \"column\": \"without_rock_agent\",\n      \"properties\": {\n        \"dtype\": \"number\",\n        \"std\": 23.37020895641857,\n        \"min\": -48.0,\n        \"max\": 46.0,\n        \"num_unique_values\": 7,\n        \"samples\": [\n          0.0\n        ],\n        \"semantic_type\": \"\",\n        \"description\": \"\"\n      }\n    },\n    {\n      \"column\": \"without_scissors_agent\",\n      \"properties\": {\n        \"dtype\": \"number\",\n        \"std\": 26.694376628603703,\n        \"min\": -47.0,\n        \"max\": 51.0,\n        \"num_unique_values\": 8,\n        \"samples\": [\n          0.0\n        ],\n        \"semantic_type\": \"\",\n        \"description\": \"\"\n      }\n    },\n    {\n      \"column\": \"without_paper_agent\",\n      \"properties\": {\n        \"dtype\": \"number\",\n        \"std\": 25.20098695665992,\n        \"min\": -46.0,\n        \"max\": 54.0,\n        \"num_unique_values\": 7,\n        \"samples\": [\n          54.0\n        ],\n        \"semantic_type\": \"\",\n        \"description\": \"\"\n      }\n    },\n    {\n      \"column\": \"loss_past_agent\",\n      \"properties\": {\n        \"dtype\": \"number\",\n        \"std\": 22.280266075840668,\n        \"min\": 0.0,\n        \"max\": 51.0,\n        \"num_unique_values\": 6,\n        \"samples\": [\n          49.0\n        ],\n        \"semantic_type\": \"\",\n        \"description\": \"\"\n      }\n    },\n    {\n      \"column\": \"reactionary_agent\",\n      \"properties\": {\n        \"dtype\": \"number\",\n        \"std\": 54.769797965948065,\n        \"min\": -99.0,\n        \"max\": 99.0,\n        \"num_unique_values\": 7,\n        \"samples\": [\n          -97.0\n        ],\n        \"semantic_type\": \"\",\n        \"description\": \"\"\n      }\n    },\n    {\n      \"column\": \"statistical_agent\",\n      \"properties\": {\n        \"dtype\": \"number\",\n        \"std\": 51.21285395539298,\n        \"min\": -99.0,\n        \"max\": 57.0,\n        \"num_unique_values\": 10,\n        \"samples\": [\n          -45.0\n        ],\n        \"semantic_type\": \"\",\n        \"description\": \"\"\n      }\n    }\n  ]\n}",
       "type": "dataframe",
       "variable_name": "df_scores"
      },
      "text/html": [
       "\n",
       "  <div id=\"df-1a1ff52b-d6a2-47c0-9304-e773a879cff0\" class=\"colab-df-container\">\n",
       "    <div>\n",
       "<style scoped>\n",
       "    .dataframe tbody tr th:only-of-type {\n",
       "        vertical-align: middle;\n",
       "    }\n",
       "\n",
       "    .dataframe tbody tr th {\n",
       "        vertical-align: top;\n",
       "    }\n",
       "\n",
       "    .dataframe thead th {\n",
       "        text-align: right;\n",
       "    }\n",
       "</style>\n",
       "<table border=\"1\" class=\"dataframe\">\n",
       "  <thead>\n",
       "    <tr style=\"text-align: right;\">\n",
       "      <th></th>\n",
       "      <th>rock_agent</th>\n",
       "      <th>copy_opponent_agent</th>\n",
       "      <th>paper_agent</th>\n",
       "      <th>random_agent</th>\n",
       "      <th>alternating_agent</th>\n",
       "      <th>scissors_agent</th>\n",
       "      <th>win_past_agent</th>\n",
       "      <th>without_rock_agent</th>\n",
       "      <th>without_scissors_agent</th>\n",
       "      <th>without_paper_agent</th>\n",
       "      <th>loss_past_agent</th>\n",
       "      <th>reactionary_agent</th>\n",
       "      <th>statistical_agent</th>\n",
       "    </tr>\n",
       "  </thead>\n",
       "  <tbody>\n",
       "    <tr>\n",
       "      <th>rock_agent</th>\n",
       "      <td>0.0</td>\n",
       "      <td>0.0</td>\n",
       "      <td>-99.0</td>\n",
       "      <td>0.0</td>\n",
       "      <td>0.0</td>\n",
       "      <td>99.0</td>\n",
       "      <td>-98.0</td>\n",
       "      <td>0.0</td>\n",
       "      <td>-47.0</td>\n",
       "      <td>54.0</td>\n",
       "      <td>49.0</td>\n",
       "      <td>-97.0</td>\n",
       "      <td>-98.0</td>\n",
       "    </tr>\n",
       "    <tr>\n",
       "      <th>copy_opponent_agent</th>\n",
       "      <td>0.0</td>\n",
       "      <td>0.0</td>\n",
       "      <td>0.0</td>\n",
       "      <td>0.0</td>\n",
       "      <td>-98.0</td>\n",
       "      <td>0.0</td>\n",
       "      <td>99.0</td>\n",
       "      <td>0.0</td>\n",
       "      <td>0.0</td>\n",
       "      <td>0.0</td>\n",
       "      <td>0.0</td>\n",
       "      <td>99.0</td>\n",
       "      <td>-21.0</td>\n",
       "    </tr>\n",
       "    <tr>\n",
       "      <th>paper_agent</th>\n",
       "      <td>99.0</td>\n",
       "      <td>0.0</td>\n",
       "      <td>0.0</td>\n",
       "      <td>0.0</td>\n",
       "      <td>0.0</td>\n",
       "      <td>-99.0</td>\n",
       "      <td>-97.0</td>\n",
       "      <td>-48.0</td>\n",
       "      <td>51.0</td>\n",
       "      <td>0.0</td>\n",
       "      <td>51.0</td>\n",
       "      <td>-97.0</td>\n",
       "      <td>-97.0</td>\n",
       "    </tr>\n",
       "    <tr>\n",
       "      <th>random_agent</th>\n",
       "      <td>0.0</td>\n",
       "      <td>0.0</td>\n",
       "      <td>0.0</td>\n",
       "      <td>0.0</td>\n",
       "      <td>0.0</td>\n",
       "      <td>0.0</td>\n",
       "      <td>0.0</td>\n",
       "      <td>0.0</td>\n",
       "      <td>0.0</td>\n",
       "      <td>0.0</td>\n",
       "      <td>0.0</td>\n",
       "      <td>0.0</td>\n",
       "      <td>0.0</td>\n",
       "    </tr>\n",
       "    <tr>\n",
       "      <th>alternating_agent</th>\n",
       "      <td>0.0</td>\n",
       "      <td>98.0</td>\n",
       "      <td>0.0</td>\n",
       "      <td>0.0</td>\n",
       "      <td>0.0</td>\n",
       "      <td>0.0</td>\n",
       "      <td>0.0</td>\n",
       "      <td>0.0</td>\n",
       "      <td>0.0</td>\n",
       "      <td>0.0</td>\n",
       "      <td>0.0</td>\n",
       "      <td>0.0</td>\n",
       "      <td>0.0</td>\n",
       "    </tr>\n",
       "    <tr>\n",
       "      <th>scissors_agent</th>\n",
       "      <td>-99.0</td>\n",
       "      <td>0.0</td>\n",
       "      <td>99.0</td>\n",
       "      <td>0.0</td>\n",
       "      <td>0.0</td>\n",
       "      <td>0.0</td>\n",
       "      <td>-97.0</td>\n",
       "      <td>46.0</td>\n",
       "      <td>0.0</td>\n",
       "      <td>-46.0</td>\n",
       "      <td>43.0</td>\n",
       "      <td>-99.0</td>\n",
       "      <td>-99.0</td>\n",
       "    </tr>\n",
       "    <tr>\n",
       "      <th>win_past_agent</th>\n",
       "      <td>98.0</td>\n",
       "      <td>-99.0</td>\n",
       "      <td>97.0</td>\n",
       "      <td>0.0</td>\n",
       "      <td>0.0</td>\n",
       "      <td>97.0</td>\n",
       "      <td>0.0</td>\n",
       "      <td>22.0</td>\n",
       "      <td>35.0</td>\n",
       "      <td>0.0</td>\n",
       "      <td>0.0</td>\n",
       "      <td>0.0</td>\n",
       "      <td>49.0</td>\n",
       "    </tr>\n",
       "    <tr>\n",
       "      <th>without_rock_agent</th>\n",
       "      <td>0.0</td>\n",
       "      <td>0.0</td>\n",
       "      <td>48.0</td>\n",
       "      <td>0.0</td>\n",
       "      <td>0.0</td>\n",
       "      <td>-46.0</td>\n",
       "      <td>-22.0</td>\n",
       "      <td>0.0</td>\n",
       "      <td>21.0</td>\n",
       "      <td>-24.0</td>\n",
       "      <td>0.0</td>\n",
       "      <td>-29.0</td>\n",
       "      <td>0.0</td>\n",
       "    </tr>\n",
       "    <tr>\n",
       "      <th>without_scissors_agent</th>\n",
       "      <td>47.0</td>\n",
       "      <td>0.0</td>\n",
       "      <td>-51.0</td>\n",
       "      <td>0.0</td>\n",
       "      <td>0.0</td>\n",
       "      <td>0.0</td>\n",
       "      <td>-35.0</td>\n",
       "      <td>-21.0</td>\n",
       "      <td>0.0</td>\n",
       "      <td>21.0</td>\n",
       "      <td>0.0</td>\n",
       "      <td>-28.0</td>\n",
       "      <td>-42.0</td>\n",
       "    </tr>\n",
       "    <tr>\n",
       "      <th>without_paper_agent</th>\n",
       "      <td>-54.0</td>\n",
       "      <td>0.0</td>\n",
       "      <td>0.0</td>\n",
       "      <td>0.0</td>\n",
       "      <td>0.0</td>\n",
       "      <td>46.0</td>\n",
       "      <td>0.0</td>\n",
       "      <td>24.0</td>\n",
       "      <td>-21.0</td>\n",
       "      <td>0.0</td>\n",
       "      <td>21.0</td>\n",
       "      <td>0.0</td>\n",
       "      <td>-34.0</td>\n",
       "    </tr>\n",
       "    <tr>\n",
       "      <th>loss_past_agent</th>\n",
       "      <td>-49.0</td>\n",
       "      <td>0.0</td>\n",
       "      <td>-51.0</td>\n",
       "      <td>0.0</td>\n",
       "      <td>0.0</td>\n",
       "      <td>-43.0</td>\n",
       "      <td>0.0</td>\n",
       "      <td>0.0</td>\n",
       "      <td>0.0</td>\n",
       "      <td>-21.0</td>\n",
       "      <td>0.0</td>\n",
       "      <td>0.0</td>\n",
       "      <td>-45.0</td>\n",
       "    </tr>\n",
       "    <tr>\n",
       "      <th>reactionary_agent</th>\n",
       "      <td>97.0</td>\n",
       "      <td>-99.0</td>\n",
       "      <td>97.0</td>\n",
       "      <td>0.0</td>\n",
       "      <td>0.0</td>\n",
       "      <td>99.0</td>\n",
       "      <td>0.0</td>\n",
       "      <td>29.0</td>\n",
       "      <td>28.0</td>\n",
       "      <td>0.0</td>\n",
       "      <td>0.0</td>\n",
       "      <td>0.0</td>\n",
       "      <td>57.0</td>\n",
       "    </tr>\n",
       "    <tr>\n",
       "      <th>statistical_agent</th>\n",
       "      <td>98.0</td>\n",
       "      <td>21.0</td>\n",
       "      <td>97.0</td>\n",
       "      <td>0.0</td>\n",
       "      <td>0.0</td>\n",
       "      <td>99.0</td>\n",
       "      <td>-49.0</td>\n",
       "      <td>0.0</td>\n",
       "      <td>42.0</td>\n",
       "      <td>34.0</td>\n",
       "      <td>45.0</td>\n",
       "      <td>-57.0</td>\n",
       "      <td>0.0</td>\n",
       "    </tr>\n",
       "  </tbody>\n",
       "</table>\n",
       "</div>\n",
       "    <div class=\"colab-df-buttons\">\n",
       "\n",
       "  <div class=\"colab-df-container\">\n",
       "    <button class=\"colab-df-convert\" onclick=\"convertToInteractive('df-1a1ff52b-d6a2-47c0-9304-e773a879cff0')\"\n",
       "            title=\"Convert this dataframe to an interactive table.\"\n",
       "            style=\"display:none;\">\n",
       "\n",
       "  <svg xmlns=\"http://www.w3.org/2000/svg\" height=\"24px\" viewBox=\"0 -960 960 960\">\n",
       "    <path d=\"M120-120v-720h720v720H120Zm60-500h600v-160H180v160Zm220 220h160v-160H400v160Zm0 220h160v-160H400v160ZM180-400h160v-160H180v160Zm440 0h160v-160H620v160ZM180-180h160v-160H180v160Zm440 0h160v-160H620v160Z\"/>\n",
       "  </svg>\n",
       "    </button>\n",
       "\n",
       "  <style>\n",
       "    .colab-df-container {\n",
       "      display:flex;\n",
       "      gap: 12px;\n",
       "    }\n",
       "\n",
       "    .colab-df-convert {\n",
       "      background-color: #E8F0FE;\n",
       "      border: none;\n",
       "      border-radius: 50%;\n",
       "      cursor: pointer;\n",
       "      display: none;\n",
       "      fill: #1967D2;\n",
       "      height: 32px;\n",
       "      padding: 0 0 0 0;\n",
       "      width: 32px;\n",
       "    }\n",
       "\n",
       "    .colab-df-convert:hover {\n",
       "      background-color: #E2EBFA;\n",
       "      box-shadow: 0px 1px 2px rgba(60, 64, 67, 0.3), 0px 1px 3px 1px rgba(60, 64, 67, 0.15);\n",
       "      fill: #174EA6;\n",
       "    }\n",
       "\n",
       "    .colab-df-buttons div {\n",
       "      margin-bottom: 4px;\n",
       "    }\n",
       "\n",
       "    [theme=dark] .colab-df-convert {\n",
       "      background-color: #3B4455;\n",
       "      fill: #D2E3FC;\n",
       "    }\n",
       "\n",
       "    [theme=dark] .colab-df-convert:hover {\n",
       "      background-color: #434B5C;\n",
       "      box-shadow: 0px 1px 3px 1px rgba(0, 0, 0, 0.15);\n",
       "      filter: drop-shadow(0px 1px 2px rgba(0, 0, 0, 0.3));\n",
       "      fill: #FFFFFF;\n",
       "    }\n",
       "  </style>\n",
       "\n",
       "    <script>\n",
       "      const buttonEl =\n",
       "        document.querySelector('#df-1a1ff52b-d6a2-47c0-9304-e773a879cff0 button.colab-df-convert');\n",
       "      buttonEl.style.display =\n",
       "        google.colab.kernel.accessAllowed ? 'block' : 'none';\n",
       "\n",
       "      async function convertToInteractive(key) {\n",
       "        const element = document.querySelector('#df-1a1ff52b-d6a2-47c0-9304-e773a879cff0');\n",
       "        const dataTable =\n",
       "          await google.colab.kernel.invokeFunction('convertToInteractive',\n",
       "                                                    [key], {});\n",
       "        if (!dataTable) return;\n",
       "\n",
       "        const docLinkHtml = 'Like what you see? Visit the ' +\n",
       "          '<a target=\"_blank\" href=https://colab.research.google.com/notebooks/data_table.ipynb>data table notebook</a>'\n",
       "          + ' to learn more about interactive tables.';\n",
       "        element.innerHTML = '';\n",
       "        dataTable['output_type'] = 'display_data';\n",
       "        await google.colab.output.renderOutput(dataTable, element);\n",
       "        const docLink = document.createElement('div');\n",
       "        docLink.innerHTML = docLinkHtml;\n",
       "        element.appendChild(docLink);\n",
       "      }\n",
       "    </script>\n",
       "  </div>\n",
       "\n",
       "\n",
       "<div id=\"df-442f2352-bfb0-4034-80b7-ac65ff60e741\">\n",
       "  <button class=\"colab-df-quickchart\" onclick=\"quickchart('df-442f2352-bfb0-4034-80b7-ac65ff60e741')\"\n",
       "            title=\"Suggest charts\"\n",
       "            style=\"display:none;\">\n",
       "\n",
       "<svg xmlns=\"http://www.w3.org/2000/svg\" height=\"24px\"viewBox=\"0 0 24 24\"\n",
       "     width=\"24px\">\n",
       "    <g>\n",
       "        <path d=\"M19 3H5c-1.1 0-2 .9-2 2v14c0 1.1.9 2 2 2h14c1.1 0 2-.9 2-2V5c0-1.1-.9-2-2-2zM9 17H7v-7h2v7zm4 0h-2V7h2v10zm4 0h-2v-4h2v4z\"/>\n",
       "    </g>\n",
       "</svg>\n",
       "  </button>\n",
       "\n",
       "<style>\n",
       "  .colab-df-quickchart {\n",
       "      --bg-color: #E8F0FE;\n",
       "      --fill-color: #1967D2;\n",
       "      --hover-bg-color: #E2EBFA;\n",
       "      --hover-fill-color: #174EA6;\n",
       "      --disabled-fill-color: #AAA;\n",
       "      --disabled-bg-color: #DDD;\n",
       "  }\n",
       "\n",
       "  [theme=dark] .colab-df-quickchart {\n",
       "      --bg-color: #3B4455;\n",
       "      --fill-color: #D2E3FC;\n",
       "      --hover-bg-color: #434B5C;\n",
       "      --hover-fill-color: #FFFFFF;\n",
       "      --disabled-bg-color: #3B4455;\n",
       "      --disabled-fill-color: #666;\n",
       "  }\n",
       "\n",
       "  .colab-df-quickchart {\n",
       "    background-color: var(--bg-color);\n",
       "    border: none;\n",
       "    border-radius: 50%;\n",
       "    cursor: pointer;\n",
       "    display: none;\n",
       "    fill: var(--fill-color);\n",
       "    height: 32px;\n",
       "    padding: 0;\n",
       "    width: 32px;\n",
       "  }\n",
       "\n",
       "  .colab-df-quickchart:hover {\n",
       "    background-color: var(--hover-bg-color);\n",
       "    box-shadow: 0 1px 2px rgba(60, 64, 67, 0.3), 0 1px 3px 1px rgba(60, 64, 67, 0.15);\n",
       "    fill: var(--button-hover-fill-color);\n",
       "  }\n",
       "\n",
       "  .colab-df-quickchart-complete:disabled,\n",
       "  .colab-df-quickchart-complete:disabled:hover {\n",
       "    background-color: var(--disabled-bg-color);\n",
       "    fill: var(--disabled-fill-color);\n",
       "    box-shadow: none;\n",
       "  }\n",
       "\n",
       "  .colab-df-spinner {\n",
       "    border: 2px solid var(--fill-color);\n",
       "    border-color: transparent;\n",
       "    border-bottom-color: var(--fill-color);\n",
       "    animation:\n",
       "      spin 1s steps(1) infinite;\n",
       "  }\n",
       "\n",
       "  @keyframes spin {\n",
       "    0% {\n",
       "      border-color: transparent;\n",
       "      border-bottom-color: var(--fill-color);\n",
       "      border-left-color: var(--fill-color);\n",
       "    }\n",
       "    20% {\n",
       "      border-color: transparent;\n",
       "      border-left-color: var(--fill-color);\n",
       "      border-top-color: var(--fill-color);\n",
       "    }\n",
       "    30% {\n",
       "      border-color: transparent;\n",
       "      border-left-color: var(--fill-color);\n",
       "      border-top-color: var(--fill-color);\n",
       "      border-right-color: var(--fill-color);\n",
       "    }\n",
       "    40% {\n",
       "      border-color: transparent;\n",
       "      border-right-color: var(--fill-color);\n",
       "      border-top-color: var(--fill-color);\n",
       "    }\n",
       "    60% {\n",
       "      border-color: transparent;\n",
       "      border-right-color: var(--fill-color);\n",
       "    }\n",
       "    80% {\n",
       "      border-color: transparent;\n",
       "      border-right-color: var(--fill-color);\n",
       "      border-bottom-color: var(--fill-color);\n",
       "    }\n",
       "    90% {\n",
       "      border-color: transparent;\n",
       "      border-bottom-color: var(--fill-color);\n",
       "    }\n",
       "  }\n",
       "</style>\n",
       "\n",
       "  <script>\n",
       "    async function quickchart(key) {\n",
       "      const quickchartButtonEl =\n",
       "        document.querySelector('#' + key + ' button');\n",
       "      quickchartButtonEl.disabled = true;  // To prevent multiple clicks.\n",
       "      quickchartButtonEl.classList.add('colab-df-spinner');\n",
       "      try {\n",
       "        const charts = await google.colab.kernel.invokeFunction(\n",
       "            'suggestCharts', [key], {});\n",
       "      } catch (error) {\n",
       "        console.error('Error during call to suggestCharts:', error);\n",
       "      }\n",
       "      quickchartButtonEl.classList.remove('colab-df-spinner');\n",
       "      quickchartButtonEl.classList.add('colab-df-quickchart-complete');\n",
       "    }\n",
       "    (() => {\n",
       "      let quickchartButtonEl =\n",
       "        document.querySelector('#df-442f2352-bfb0-4034-80b7-ac65ff60e741 button');\n",
       "      quickchartButtonEl.style.display =\n",
       "        google.colab.kernel.accessAllowed ? 'block' : 'none';\n",
       "    })();\n",
       "  </script>\n",
       "</div>\n",
       "    </div>\n",
       "  </div>\n"
      ],
      "text/plain": [
       "                        rock_agent  copy_opponent_agent  paper_agent  \\\n",
       "rock_agent                     0.0                  0.0        -99.0   \n",
       "copy_opponent_agent            0.0                  0.0          0.0   \n",
       "paper_agent                   99.0                  0.0          0.0   \n",
       "random_agent                   0.0                  0.0          0.0   \n",
       "alternating_agent              0.0                 98.0          0.0   \n",
       "scissors_agent               -99.0                  0.0         99.0   \n",
       "win_past_agent                98.0                -99.0         97.0   \n",
       "without_rock_agent             0.0                  0.0         48.0   \n",
       "without_scissors_agent        47.0                  0.0        -51.0   \n",
       "without_paper_agent          -54.0                  0.0          0.0   \n",
       "loss_past_agent              -49.0                  0.0        -51.0   \n",
       "reactionary_agent             97.0                -99.0         97.0   \n",
       "statistical_agent             98.0                 21.0         97.0   \n",
       "\n",
       "                        random_agent  alternating_agent  scissors_agent  \\\n",
       "rock_agent                       0.0                0.0            99.0   \n",
       "copy_opponent_agent              0.0              -98.0             0.0   \n",
       "paper_agent                      0.0                0.0           -99.0   \n",
       "random_agent                     0.0                0.0             0.0   \n",
       "alternating_agent                0.0                0.0             0.0   \n",
       "scissors_agent                   0.0                0.0             0.0   \n",
       "win_past_agent                   0.0                0.0            97.0   \n",
       "without_rock_agent               0.0                0.0           -46.0   \n",
       "without_scissors_agent           0.0                0.0             0.0   \n",
       "without_paper_agent              0.0                0.0            46.0   \n",
       "loss_past_agent                  0.0                0.0           -43.0   \n",
       "reactionary_agent                0.0                0.0            99.0   \n",
       "statistical_agent                0.0                0.0            99.0   \n",
       "\n",
       "                        win_past_agent  without_rock_agent  \\\n",
       "rock_agent                       -98.0                 0.0   \n",
       "copy_opponent_agent               99.0                 0.0   \n",
       "paper_agent                      -97.0               -48.0   \n",
       "random_agent                       0.0                 0.0   \n",
       "alternating_agent                  0.0                 0.0   \n",
       "scissors_agent                   -97.0                46.0   \n",
       "win_past_agent                     0.0                22.0   \n",
       "without_rock_agent               -22.0                 0.0   \n",
       "without_scissors_agent           -35.0               -21.0   \n",
       "without_paper_agent                0.0                24.0   \n",
       "loss_past_agent                    0.0                 0.0   \n",
       "reactionary_agent                  0.0                29.0   \n",
       "statistical_agent                -49.0                 0.0   \n",
       "\n",
       "                        without_scissors_agent  without_paper_agent  \\\n",
       "rock_agent                               -47.0                 54.0   \n",
       "copy_opponent_agent                        0.0                  0.0   \n",
       "paper_agent                               51.0                  0.0   \n",
       "random_agent                               0.0                  0.0   \n",
       "alternating_agent                          0.0                  0.0   \n",
       "scissors_agent                             0.0                -46.0   \n",
       "win_past_agent                            35.0                  0.0   \n",
       "without_rock_agent                        21.0                -24.0   \n",
       "without_scissors_agent                     0.0                 21.0   \n",
       "without_paper_agent                      -21.0                  0.0   \n",
       "loss_past_agent                            0.0                -21.0   \n",
       "reactionary_agent                         28.0                  0.0   \n",
       "statistical_agent                         42.0                 34.0   \n",
       "\n",
       "                        loss_past_agent  reactionary_agent  statistical_agent  \n",
       "rock_agent                         49.0              -97.0              -98.0  \n",
       "copy_opponent_agent                 0.0               99.0              -21.0  \n",
       "paper_agent                        51.0              -97.0              -97.0  \n",
       "random_agent                        0.0                0.0                0.0  \n",
       "alternating_agent                   0.0                0.0                0.0  \n",
       "scissors_agent                     43.0              -99.0              -99.0  \n",
       "win_past_agent                      0.0                0.0               49.0  \n",
       "without_rock_agent                  0.0              -29.0                0.0  \n",
       "without_scissors_agent              0.0              -28.0              -42.0  \n",
       "without_paper_agent                21.0                0.0              -34.0  \n",
       "loss_past_agent                     0.0                0.0              -45.0  \n",
       "reactionary_agent                   0.0                0.0               57.0  \n",
       "statistical_agent                  45.0              -57.0                0.0  "
      ]
     },
     "execution_count": 99,
     "metadata": {},
     "output_type": "execute_result"
    }
   ],
   "source": [
    "env = make(\"rps\", configuration={\"episodeSteps\": 100})\n",
    "# Турнир между агентами\n",
    "agents = ['rock_agent', 'copy_opponent_agent', 'paper_agent',\n",
    "          'random_agent', 'alternating_agent', 'scissors_agent',\n",
    "          'win_past_agent', 'without_rock_agent', 'without_scissors_agent',\n",
    "          'without_paper_agent', 'loss_past_agent', 'reactionary_agent',\n",
    "          'statistical_agent']\n",
    "\n",
    "# Добавляем .py к каждому агенту\n",
    "agents_py = [i + \".py\" for i in agents]\n",
    "n_agents = len(agents)\n",
    "\n",
    "# Инициализируем матрицу результатов\n",
    "scores = np.zeros((n_agents, n_agents))\n",
    "\n",
    "# Играем каждый агент против каждого\n",
    "for i in range(n_agents):\n",
    "    for j in range(i + 1, n_agents):\n",
    "        result = evaluate(\"rps\", [agents_py[i], agents_py[j]], configuration={\"episodeSteps\": 100}, num_episodes=1)\n",
    "        scores[i][j] = result[0][0]  # сохраняем результат для агента i\n",
    "        scores[j][i] = result[0][1]  # сохраняем результат для агента j\n",
    "\n",
    "# Построение матрицы корреляций\n",
    "df_scores = pd.DataFrame(scores, index=agents, columns=agents)\n",
    "df_scores"
   ]
  }
 ],
 "metadata": {
  "colab": {
   "provenance": []
  },
  "kernelspec": {
   "display_name": "Python 3",
   "name": "python3"
  },
  "language_info": {
   "name": "python"
  }
 },
 "nbformat": 4,
 "nbformat_minor": 0
}
